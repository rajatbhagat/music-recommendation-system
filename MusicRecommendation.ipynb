{
 "cells": [
  {
   "cell_type": "code",
   "execution_count": 4,
   "id": "2295f1d0",
   "metadata": {},
   "outputs": [
    {
     "name": "stdout",
     "output_type": "stream",
     "text": [
      "Young Heart\n",
      "Beautiful Lies\n",
      "Beautiful Lies\n",
      "Beautiful Lies (Deluxe)\n",
      "Beautiful Lies (Deluxe)\n",
      "Fire Within\n",
      "Fire Within\n",
      "Fire Within (Deluxe)\n",
      "Fire Within (Deluxe)\n",
      "Fire Within (Deluxe)\n",
      "Live in London\n",
      "Birdy\n",
      "Birdy\n",
      "Birdy\n",
      "Birdy\n",
      "Birdy (Deluxe Version)\n"
     ]
    }
   ],
   "source": [
    "import os\n",
    "import spotipy\n",
    "from spotipy.oauth2 import SpotifyClientCredentials\n",
    "from spotipy_auth import SPOTIPY_CLIENT_ID, SPOTIPY_CLIENT_SECRET\n",
    "\n",
    "os.environ['SPOTIPY_CLIENT_ID'] = SPOTIPY_CLIENT_ID\n",
    "os.environ['SPOTIPY_CLIENT_SECRET'] = SPOTIPY_CLIENT_SECRET\n",
    "\n",
    "birdy_uri = 'spotify:artist:2WX2uTcsvV5OnS0inACecP'\n",
    "spotify = spotipy.Spotify(client_credentials_manager=SpotifyClientCredentials())\n",
    "\n",
    "results = spotify.artist_albums(birdy_uri, album_type='album')\n",
    "albums = results['items']\n",
    "while results['next']:\n",
    "    results = spotify.next(results)\n",
    "    albums.extend(results['items'])\n",
    "\n",
    "for album in albums:\n",
    "    print(album['name'])"
   ]
  },
  {
   "cell_type": "code",
   "execution_count": null,
   "id": "6b8962d6",
   "metadata": {},
   "outputs": [],
   "source": []
  }
 ],
 "metadata": {
  "kernelspec": {
   "display_name": "Python 3 (ipykernel)",
   "language": "python",
   "name": "python3"
  },
  "language_info": {
   "codemirror_mode": {
    "name": "ipython",
    "version": 3
   },
   "file_extension": ".py",
   "mimetype": "text/x-python",
   "name": "python",
   "nbconvert_exporter": "python",
   "pygments_lexer": "ipython3",
   "version": "3.9.7"
  }
 },
 "nbformat": 4,
 "nbformat_minor": 5
}
